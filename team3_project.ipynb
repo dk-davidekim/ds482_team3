{
  "cells": [
    {
      "cell_type": "code",
      "execution_count": 21,
      "metadata": {
        "colab": {
          "base_uri": "https://localhost:8080/"
        },
        "id": "q9-8VfACuPzn",
        "outputId": "73ce56b1-7f80-4d26-cc15-83114a55ded6"
      },
      "outputs": [
        {
          "name": "stdout",
          "output_type": "stream",
          "text": [
            "Collecting tensorflow\n",
            "  Using cached tensorflow-2.16.1-cp39-cp39-macosx_12_0_arm64.whl.metadata (4.1 kB)\n",
            "Requirement already satisfied: keras in /Users/davidekim/tensorflow/lib/python3.9/site-packages (2.10.0)\n",
            "\u001b[31mERROR: Could not find a version that satisfies the requirement cv2 (from versions: none)\u001b[0m\u001b[31m\n",
            "\u001b[0m\u001b[31mERROR: No matching distribution found for cv2\u001b[0m\u001b[31m\n",
            "\u001b[0m\n",
            "\u001b[1m[\u001b[0m\u001b[34;49mnotice\u001b[0m\u001b[1;39;49m]\u001b[0m\u001b[39;49m A new release of pip is available: \u001b[0m\u001b[31;49m23.3.1\u001b[0m\u001b[39;49m -> \u001b[0m\u001b[32;49m24.0\u001b[0m\n",
            "\u001b[1m[\u001b[0m\u001b[34;49mnotice\u001b[0m\u001b[1;39;49m]\u001b[0m\u001b[39;49m To update, run: \u001b[0m\u001b[32;49mpip install --upgrade pip\u001b[0m\n",
            "Note: you may need to restart the kernel to use updated packages.\n"
          ]
        }
      ],
      "source": [
        "pip install tensorflow keras cv2 matplotlib"
      ]
    },
    {
      "cell_type": "markdown",
      "metadata": {
        "id": "oBrWKvig-UUt"
      },
      "source": [
        "# Load Libraries"
      ]
    },
    {
      "cell_type": "code",
      "execution_count": 22,
      "metadata": {
        "id": "Pvt6Ngad-TKv"
      },
      "outputs": [],
      "source": [
        "import os\n",
        "import cv2\n",
        "import numpy as np\n",
        "from tensorflow.keras.models import load_model\n",
        "from tensorflow.keras.preprocessing import image"
      ]
    },
    {
      "cell_type": "markdown",
      "metadata": {
        "id": "HuhGCSOX4Lde"
      },
      "source": [
        "## Facial Recognition Component"
      ]
    },
    {
      "cell_type": "code",
      "execution_count": 23,
      "metadata": {
        "id": "cqJg3skqyV-M"
      },
      "outputs": [],
      "source": [
        "def load_facenet_model(model_path):\n",
        "    \"\"\" Load the pre-trained FaceNet model. \"\"\"\n",
        "    try:\n",
        "        model = load_model(model_path)\n",
        "        print(\"FaceNet model loaded successfully.\")\n",
        "        return model\n",
        "    except Exception as e:\n",
        "        print(f\"Failed to load model: {e}\")\n",
        "        return None"
      ]
    },
    {
      "cell_type": "markdown",
      "metadata": {
        "id": "hAU2YL0u7QXU"
      },
      "source": [
        "# Using Fawkes to Poison Images"
      ]
    },
    {
      "cell_type": "code",
      "execution_count": 24,
      "metadata": {
        "id": "-KRspvvw6T3b"
      },
      "outputs": [],
      "source": [
        "def poison_image_with_fawkes(input_image_path, output_dir):\n",
        "    \"\"\" Use Fawkes to 'poison' the image to protect privacy. \"\"\"\n",
        "    output_image_path = os.path.join(output_dir, os.path.basename(input_image_path))\n",
        "    command = f'fawkes -i {input_image_path} -o {output_dir} --mode minimal'\n",
        "    subprocess.run(command, shell=True)\n",
        "    return output_image_path"
      ]
    },
    {
      "cell_type": "markdown",
      "metadata": {
        "id": "F50T_3br-pbB"
      },
      "source": [
        "# Load and Prepare Images"
      ]
    },
    {
      "cell_type": "code",
      "execution_count": 25,
      "metadata": {
        "id": "umKq_hcd-q8P"
      },
      "outputs": [],
      "source": [
        "def load_and_prepare_image(image_path, target_size=(160, 160)):\n",
        "    \"\"\" Load and prepare an image file for FaceNet. \"\"\"\n",
        "    img = image.load_img(image_path, target_size=target_size)\n",
        "    img_array = image.img_to_array(img)\n",
        "    img_array_expanded = np.expand_dims(img_array, axis=0)\n",
        "    return img_array_expanded / 255.0"
      ]
    },
    {
      "cell_type": "markdown",
      "metadata": {
        "id": "nihdHeSA7UkA"
      },
      "source": [
        "# Using the FairFace Dataset"
      ]
    },
    {
      "cell_type": "code",
      "execution_count": 26,
      "metadata": {
        "id": "4AqPZgUx7VIc"
      },
      "outputs": [],
      "source": [
        "import cv2\n",
        "import numpy as np\n",
        "\n",
        "def load_and_prepare_image(image_path):\n",
        "    image = cv2.imread(image_path)\n",
        "    image = cv2.resize(image, (160, 160))\n",
        "    return image.astype('float32') / 255.0"
      ]
    },
    {
      "cell_type": "markdown",
      "metadata": {
        "id": "qi38Y8_x7m9z"
      },
      "source": [
        "# Testing Fairness and Effectiveness"
      ]
    },
    {
      "cell_type": "code",
      "execution_count": 31,
      "metadata": {
        "id": "5kdJaXcq7oSB"
      },
      "outputs": [],
      "source": [
        "def test_effectiveness(model, dataset_path, output_dir):\n",
        "    \"\"\" Test the effectiveness of the 'poisoned' images against FaceNet model. \"\"\"\n",
        "    results = {}\n",
        "    if not os.path.exists(output_dir):\n",
        "        os.makedirs(output_dir)\n",
        "\n",
        "    for image_file in os.listdir(dataset_path):\n",
        "        if image_file.lower().endswith(('.png', '.jpg', '.jpeg')):\n",
        "            original_image_path = os.path.join(dataset_path, image_file)\n",
        "            poisoned_image_path = poison_image_with_fawkes(original_image_path, output_dir)\n",
        "\n",
        "            original_image = load_and_prepare_image(original_image_path)\n",
        "            poisoned_image = load_and_prepare_image(poisoned_image_path)\n",
        "\n",
        "            original_pred = model.predict(original_image)\n",
        "            poisoned_pred = model.predict(poisoned_image)\n",
        "\n",
        "            distance = np.linalg.norm(original_pred - poisoned_pred)\n",
        "            results[image_file] = distance\n",
        "            print(f\"Processed {image_file}: Distance = {distance}\")\n",
        "\n",
        "    return results"
      ]
    },
    {
      "cell_type": "markdown",
      "metadata": {
        "id": "uCTNQTHt7qkw"
      },
      "source": [
        "# Execution"
      ]
    },
    {
      "cell_type": "code",
      "execution_count": 32,
      "metadata": {
        "id": "bkwPrBL17sBc"
      },
      "outputs": [
        {
          "name": "stdout",
          "output_type": "stream",
          "text": [
            "Failed to load model: bad marshal data (unknown type code)\n"
          ]
        }
      ],
      "source": [
        "if __name__ == \"__main__\":\n",
        "    facenet_model_path = './facenet_keras.h5'\n",
        "    fairface_dataset_path = 'fairface'\n",
        "    output_directory = 'output'\n",
        "\n",
        "    # Load the FaceNet model\n",
        "    model = load_facenet_model(facenet_model_path)\n",
        "\n",
        "    if model is not None:\n",
        "        # Run the effectiveness test\n",
        "        effectiveness_results = test_effectiveness(model, fairface_dataset_path, output_directory)\n",
        "        print(effectiveness_results)"
      ]
    },
    {
      "cell_type": "code",
      "execution_count": null,
      "metadata": {},
      "outputs": [],
      "source": []
    }
  ],
  "metadata": {
    "colab": {
      "provenance": []
    },
    "kernelspec": {
      "display_name": "Python 3",
      "name": "python3"
    },
    "language_info": {
      "codemirror_mode": {
        "name": "ipython",
        "version": 3
      },
      "file_extension": ".py",
      "mimetype": "text/x-python",
      "name": "python",
      "nbconvert_exporter": "python",
      "pygments_lexer": "ipython3",
      "version": "3.9.15"
    }
  },
  "nbformat": 4,
  "nbformat_minor": 0
}
