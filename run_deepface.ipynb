{
 "cells": [
  {
   "cell_type": "code",
   "execution_count": 2,
   "id": "147a060d-980e-429e-8380-9f594f687745",
   "metadata": {},
   "outputs": [],
   "source": [
    "%load_ext autoreload\n",
    "%autoreload 2"
   ]
  },
  {
   "cell_type": "code",
   "execution_count": 3,
   "id": "87ce01e2-56ea-4441-8452-47265ff45c69",
   "metadata": {},
   "outputs": [
    {
     "name": "stderr",
     "output_type": "stream",
     "text": [
      "2024-04-24 10:01:12.974495: W tensorflow/stream_executor/platform/default/dso_loader.cc:64] Could not load dynamic library 'libcudart.so.11.0'; dlerror: libcudart.so.11.0: cannot open shared object file: No such file or directory\n",
      "2024-04-24 10:01:12.974529: I tensorflow/stream_executor/cuda/cudart_stub.cc:29] Ignore above cudart dlerror if you do not have a GPU set up on your machine.\n"
     ]
    }
   ],
   "source": [
    "from deepface import DeepFace\n",
    "import pandas as pd\n",
    "import os\n",
    "from tqdm.notebook import tqdm\n",
    "\n",
    "import warnings\n",
    "warnings.filterwarnings('ignore')"
   ]
  },
  {
   "cell_type": "markdown",
   "id": "712d084f-918e-450f-99e4-60be1c53f66b",
   "metadata": {},
   "source": [
    "## Load metadata from the VGG-Face Dataset"
   ]
  },
  {
   "cell_type": "code",
   "execution_count": 4,
   "id": "f6a2b2e3-7c56-4e53-96d6-7324a8a6f796",
   "metadata": {},
   "outputs": [],
   "source": [
    "meta_df = pd.read_csv('data/VGG-Face2/meta/identity_meta.csv', on_bad_lines='skip')"
   ]
  },
  {
   "cell_type": "code",
   "execution_count": 6,
   "id": "4c61bee4-d9ac-499b-8ffe-b1cbed15d23e",
   "metadata": {},
   "outputs": [
    {
     "data": {
      "text/html": [
       "<div>\n",
       "<style scoped>\n",
       "    .dataframe tbody tr th:only-of-type {\n",
       "        vertical-align: middle;\n",
       "    }\n",
       "\n",
       "    .dataframe tbody tr th {\n",
       "        vertical-align: top;\n",
       "    }\n",
       "\n",
       "    .dataframe thead th {\n",
       "        text-align: right;\n",
       "    }\n",
       "</style>\n",
       "<table border=\"1\" class=\"dataframe\">\n",
       "  <thead>\n",
       "    <tr style=\"text-align: right;\">\n",
       "      <th></th>\n",
       "      <th>Class_ID</th>\n",
       "      <th>Name</th>\n",
       "      <th>Sample_Num</th>\n",
       "      <th>Flag</th>\n",
       "      <th>Gender</th>\n",
       "    </tr>\n",
       "  </thead>\n",
       "  <tbody>\n",
       "    <tr>\n",
       "      <th>0</th>\n",
       "      <td>n000001</td>\n",
       "      <td>\"14th_Dalai_Lama\"</td>\n",
       "      <td>424</td>\n",
       "      <td>0</td>\n",
       "      <td>m</td>\n",
       "    </tr>\n",
       "    <tr>\n",
       "      <th>1</th>\n",
       "      <td>n000002</td>\n",
       "      <td>\"A_Fine_Frenzy\"</td>\n",
       "      <td>315</td>\n",
       "      <td>1</td>\n",
       "      <td>f</td>\n",
       "    </tr>\n",
       "    <tr>\n",
       "      <th>2</th>\n",
       "      <td>n000003</td>\n",
       "      <td>\"A._A._Gill\"</td>\n",
       "      <td>205</td>\n",
       "      <td>1</td>\n",
       "      <td>m</td>\n",
       "    </tr>\n",
       "    <tr>\n",
       "      <th>3</th>\n",
       "      <td>n000004</td>\n",
       "      <td>\"A._J._Buckley\"</td>\n",
       "      <td>387</td>\n",
       "      <td>1</td>\n",
       "      <td>m</td>\n",
       "    </tr>\n",
       "    <tr>\n",
       "      <th>4</th>\n",
       "      <td>n000005</td>\n",
       "      <td>\"A._J._Pierzynski\"</td>\n",
       "      <td>229</td>\n",
       "      <td>1</td>\n",
       "      <td>m</td>\n",
       "    </tr>\n",
       "    <tr>\n",
       "      <th>...</th>\n",
       "      <td>...</td>\n",
       "      <td>...</td>\n",
       "      <td>...</td>\n",
       "      <td>...</td>\n",
       "      <td>...</td>\n",
       "    </tr>\n",
       "    <tr>\n",
       "      <th>9111</th>\n",
       "      <td>n009287</td>\n",
       "      <td>\"Ni_Ping\"</td>\n",
       "      <td>226</td>\n",
       "      <td>0</td>\n",
       "      <td>f</td>\n",
       "    </tr>\n",
       "    <tr>\n",
       "      <th>9112</th>\n",
       "      <td>n009288</td>\n",
       "      <td>\"Song_Dandan\"</td>\n",
       "      <td>252</td>\n",
       "      <td>0</td>\n",
       "      <td>f</td>\n",
       "    </tr>\n",
       "    <tr>\n",
       "      <th>9113</th>\n",
       "      <td>n009289</td>\n",
       "      <td>\"Pan_Hong\"</td>\n",
       "      <td>236</td>\n",
       "      <td>0</td>\n",
       "      <td>f</td>\n",
       "    </tr>\n",
       "    <tr>\n",
       "      <th>9114</th>\n",
       "      <td>n009291</td>\n",
       "      <td>\"Stephen_Chow\"</td>\n",
       "      <td>200</td>\n",
       "      <td>0</td>\n",
       "      <td>m</td>\n",
       "    </tr>\n",
       "    <tr>\n",
       "      <th>9115</th>\n",
       "      <td>n009294</td>\n",
       "      <td>\"Lang_Ping\"</td>\n",
       "      <td>234</td>\n",
       "      <td>0</td>\n",
       "      <td>f</td>\n",
       "    </tr>\n",
       "  </tbody>\n",
       "</table>\n",
       "<p>9116 rows × 5 columns</p>\n",
       "</div>"
      ],
      "text/plain": [
       "     Class_ID                 Name   Sample_Num   Flag  Gender\n",
       "0     n000001    \"14th_Dalai_Lama\"          424      0       m\n",
       "1     n000002      \"A_Fine_Frenzy\"          315      1       f\n",
       "2     n000003         \"A._A._Gill\"          205      1       m\n",
       "3     n000004      \"A._J._Buckley\"          387      1       m\n",
       "4     n000005   \"A._J._Pierzynski\"          229      1       m\n",
       "...       ...                  ...          ...    ...     ...\n",
       "9111  n009287            \"Ni_Ping\"          226      0       f\n",
       "9112  n009288        \"Song_Dandan\"          252      0       f\n",
       "9113  n009289           \"Pan_Hong\"          236      0       f\n",
       "9114  n009291       \"Stephen_Chow\"          200      0       m\n",
       "9115  n009294          \"Lang_Ping\"          234      0       f\n",
       "\n",
       "[9116 rows x 5 columns]"
      ]
     },
     "execution_count": 6,
     "metadata": {},
     "output_type": "execute_result"
    }
   ],
   "source": [
    "meta_df"
   ]
  },
  {
   "cell_type": "markdown",
   "id": "7e19fb86-6879-45c4-9ae5-151f9c15160d",
   "metadata": {},
   "source": [
    "## Find 100 individuals of every ethnicity"
   ]
  },
  {
   "cell_type": "code",
   "execution_count": 56,
   "id": "9d9115d7-63aa-46ec-b5c6-12d7045e1d13",
   "metadata": {},
   "outputs": [],
   "source": [
    "counts = {'indian m': 0, 'indian f': 0, 'black m': 0, 'black f': 0, 'white m': 0, 'white f': 0, 'middle eastern m': 0, 'middle eastern f': 0, 'latino hispanic m': 0, 'latino hispanic f': 0, 'asian f': 0, 'asian m': 0}\n",
    "ids = {group: [] for group in counts.keys()}"
   ]
  },
  {
   "cell_type": "code",
   "execution_count": 61,
   "id": "7a63358d-d808-488b-b7a7-40765c7803bb",
   "metadata": {},
   "outputs": [],
   "source": [
    "data_dir = 'data/train'"
   ]
  },
  {
   "cell_type": "code",
   "execution_count": 64,
   "id": "aabab5af-1303-45ae-b2af-852a5ebbadfa",
   "metadata": {},
   "outputs": [
    {
     "data": {
      "application/vnd.jupyter.widget-view+json": {
       "model_id": "94015d8f1d27422dba0c595b5c7a1301",
       "version_major": 2,
       "version_minor": 0
      },
      "text/plain": [
       "  0%|          | 0/9116 [00:00<?, ?it/s]"
      ]
     },
     "metadata": {},
     "output_type": "display_data"
    }
   ],
   "source": [
    "for class_id in tqdm(meta_df['Class_ID'].values):\n",
    "    try:\n",
    "        fname = os.listdir(os.path.join(data_dir, class_id))[0]\n",
    "        objs = DeepFace.analyze(img_path = os.path.join(data_dir, class_id, fname), actions = ['age', 'race', 'emotion'], silent=True)[0]\n",
    "        group = objs['dominant_race'] + meta_df.loc[meta_df['Class_ID'] == class_id,  ' Gender'].values[0]\n",
    "\n",
    "        if counts[group] >= 50: continue\n",
    "\n",
    "        counts[group] += 1\n",
    "        ids[group].append(class_id)\n",
    "    except Exception as e:\n",
    "        pass\n",
    "    if all([v >= 50 for v in counts.values()]): break"
   ]
  },
  {
   "cell_type": "markdown",
   "id": "ba3d7e30-6586-4c71-85fd-20e2c7839cc3",
   "metadata": {},
   "source": [
    "## Save so we dont have to rerun"
   ]
  },
  {
   "cell_type": "code",
   "execution_count": 11,
   "id": "ac76b936-058b-4cd3-bde2-ae5c5c570375",
   "metadata": {},
   "outputs": [],
   "source": [
    "import pickle\n",
    "SAVE = False\n",
    "if SAVE:\n",
    "    with open('pkls/counts.pkl', 'wb') as fh:\n",
    "        pickle.dump(counts, fh)\n",
    "    with open('pkls/ids.pkl', 'wb') as fh:\n",
    "        pickle.dump(ids, fh)\n",
    "else:\n",
    "    with open('pkls/counts.pkl', 'rb') as fh:\n",
    "        counts = pickle.load(fh)\n",
    "    with open('pkls/ids.pkl', 'rb') as fh:\n",
    "        ids = pickle.load(fh)"
   ]
  },
  {
   "cell_type": "markdown",
   "id": "36294496-7c67-49d0-aa5f-aa8d03f22e21",
   "metadata": {},
   "source": [
    "## Copy all the curated images into our list"
   ]
  },
  {
   "cell_type": "code",
   "execution_count": 76,
   "id": "4ab4e3b3-4715-4cad-914a-b192a648a02b",
   "metadata": {},
   "outputs": [
    {
     "data": {
      "application/vnd.jupyter.widget-view+json": {
       "model_id": "52e6eb30ed7946068eca5e3b6f31c541",
       "version_major": 2,
       "version_minor": 0
      },
      "text/plain": [
       "  0%|          | 0/12 [00:00<?, ?it/s]"
      ]
     },
     "metadata": {},
     "output_type": "display_data"
    },
    {
     "data": {
      "application/vnd.jupyter.widget-view+json": {
       "model_id": "bbbf131a0f7241a0b41c5b0498e97e15",
       "version_major": 2,
       "version_minor": 0
      },
      "text/plain": [
       "  0%|          | 0/12 [00:00<?, ?it/s]"
      ]
     },
     "metadata": {},
     "output_type": "display_data"
    }
   ],
   "source": [
    "import shutil\n",
    "from random import sample\n",
    "# Make all the directories\n",
    "for group, l in tqdm(ids.items()):\n",
    "    for class_id in l:\n",
    "        if not os.path.exists(os.path.join('./data/curated/', class_id)):\n",
    "            os.mkdir(os.path.join('./data/curated/', class_id))\n",
    "\n",
    "# Copy in 3 random images from each class in to the folder \n",
    "for group, l in tqdm(ids.items()):\n",
    "    for class_id in l:\n",
    "        # Get original images\n",
    "        test = False\n",
    "        if os.path.exists(os.path.join(data_dir, class_id)):\n",
    "            fnames = os.listdir(os.path.join(data_dir, class_id))\n",
    "        else:\n",
    "            test = True\n",
    "            fnames = os.listdir(os.path.join('data/test', class_id))\n",
    "        for fname in sample(fnames, 3):\n",
    "            if not test:\n",
    "                og_image = os.path.join(data_dir, class_id, fname)\n",
    "            else:\n",
    "                og_image = os.path.join('data/test', class_id, fname)\n",
    "            new_image = os.path.join('./data/curated', class_id, fname)\n",
    "            shutil.copyfile(og_image, new_image)\n",
    "\n",
    "    "
   ]
  },
  {
   "cell_type": "markdown",
   "id": "d4d3e46b-91c8-42ef-bd53-c07872bf92aa",
   "metadata": {},
   "source": [
    "## Run fawkes on all the images (shell not here)\n",
    "Run the following bash\n",
    "`ls data/curated/ | while read file; do ./protection -d \"data/curated/$file\"; done`\n",
    "\n",
    "This can take quite a while (60 seconds per image). You can check progress with `find . -type f | awk -F'.' '!/^.$/ && NF>1 {print $NF}' | sort | uniq -c | sort -nr`"
   ]
  },
  {
   "cell_type": "markdown",
   "id": "7b45ff75-fe76-4ad7-a84b-545f8aed66e7",
   "metadata": {},
   "source": [
    "## Run the  on pairs of images and their fawkes counter parts\n",
    "For each individual, we will randomly sample one of their images. We will then run the `DeepFace` verification function against all the other non-cloaked images. We will then run the verification against all of the cloaked versions. We will then take the difference between the confidence of the non cloaked and the cloaked versions of the images. This will be the score for that individual. We can then look at how the score very for each group."
   ]
  },
  {
   "cell_type": "code",
   "execution_count": 41,
   "id": "ca7a9b59-c1eb-4f06-9e78-c95b5d304b10",
   "metadata": {},
   "outputs": [
    {
     "data": {
      "application/vnd.jupyter.widget-view+json": {
       "model_id": "f4af30708f6a43d8889dff63c332d8ab",
       "version_major": 2,
       "version_minor": 0
      },
      "text/plain": [
       "  0%|          | 0/528 [00:00<?, ?it/s]"
      ]
     },
     "metadata": {},
     "output_type": "display_data"
    }
   ],
   "source": [
    "from random import sample\n",
    "d = 'data/curated'\n",
    "\n",
    "scores = {}\n",
    "for group, l in ids.items():\n",
    "    for class_id in l:\n",
    "        scores[class_id] = {'cloaked':[], 'non_cloaked': [], 'diffs': []}\n",
    "\n",
    "# Remove the .jpg and add the _low_cloaked.png\n",
    "cloaked_fname = lambda fname_: fname_[:-4] + '_low_cloaked.png'\n",
    "\n",
    "need_to_run = []\n",
    "for class_id in tqdm(os.listdir(d)):\n",
    "    if class_id == 'protection' or class_id == 'run.sh': continue\n",
    "    try:\n",
    "        fnames = os.listdir(os.path.join(d, class_id))\n",
    "\n",
    "        if not len(list(filter(lambda fname_: fname_.endswith('.png'), fnames))) > 0:\n",
    "            need_to_run.append(class_id)\n",
    "            continue\n",
    "\n",
    "        non_cloaked = list(filter(lambda fname_: fname_.endswith(\".jpg\"), fnames))\n",
    "        base = sample(non_cloaked, 1)[0]\n",
    "        base_fname = os.path.join(d, class_id, base)\n",
    "        non_cloaked_ = list(filter(lambda fname_: fname_ != base, non_cloaked))    \n",
    "        for nc in non_cloaked_:\n",
    "            c = cloaked_fname(nc)    \n",
    "            res_nc = DeepFace.verify(img1_path = base_fname, img2_path = os.path.join(d, class_id, nc), enforce_detection=False)['distance']\n",
    "            res_c = DeepFace.verify(img1_path = base_fname, img2_path = os.path.join(d, class_id, c), enforce_detection=False)['distance']\n",
    "    \n",
    "            scores[class_id]['cloaked'].append(res_c)\n",
    "            scores[class_id]['non_cloaked'].append(res_nc)\n",
    "            scores[class_id]['diffs'].append(res_nc - res_c)\n",
    "    except Exception as e:\n",
    "        print(e)"
   ]
  },
  {
   "cell_type": "code",
   "execution_count": 53,
   "id": "dd2926b2-f3c1-4b6a-aa5b-506c0ab76a6f",
   "metadata": {},
   "outputs": [],
   "source": [
    "import pickle\n",
    "SAVE = True\n",
    "if SAVE:\n",
    "    with open('pkls/scores.pkl', 'wb') as fh:\n",
    "        pickle.dump(scores, fh)\n",
    "else:\n",
    "    with open('pkls/scores.pkl', 'rb') as fh:\n",
    "        scores = pickle.load(fh)\n",
    "        "
   ]
  },
  {
   "cell_type": "markdown",
   "id": "f013ca23-fee3-4ce4-92e1-027127580162",
   "metadata": {},
   "source": [
    "## Generate scores by group"
   ]
  },
  {
   "cell_type": "code",
   "execution_count": 50,
   "id": "9d76c8aa-cef7-4234-ae8d-c7e49f02ea94",
   "metadata": {},
   "outputs": [],
   "source": [
    "import numpy as np\n",
    "def calculate_stats(scores, class_ids):\n",
    "    results = {}\n",
    "    for group, ids in class_ids.items():\n",
    "        all_diffs = []\n",
    "        for class_id in ids:\n",
    "            if class_id in scores:\n",
    "                all_diffs.extend(scores[class_id]['diffs'])\n",
    "        if all_diffs:\n",
    "            mean_diff = np.mean(all_diffs)\n",
    "            std_diff = np.std(all_diffs)\n",
    "            results[group] = {'mean': mean_diff, 'std_deviation': std_diff}\n",
    "        else:\n",
    "            results[group] = {'mean': None, 'std_deviation': None}\n",
    "    return results\n",
    "\n",
    "stats = calculate_stats(scores, ids)"
   ]
  },
  {
   "cell_type": "markdown",
   "id": "1a4288ef-4c72-4d12-9cee-0d4bafae46f5",
   "metadata": {},
   "source": [
    "## Visualise the outputs"
   ]
  },
  {
   "cell_type": "code",
   "execution_count": 54,
   "id": "ec70c70c-57b1-4c34-a03d-e1d01420c4da",
   "metadata": {},
   "outputs": [],
   "source": [
    "import matplotlib.pyplot as plt"
   ]
  },
  {
   "cell_type": "code",
   "execution_count": 60,
   "id": "05122ead-4764-450d-a6d6-ba60c4861783",
   "metadata": {},
   "outputs": [
    {
     "data": {
      "text/plain": [
       "{}"
      ]
     },
     "execution_count": 60,
     "metadata": {},
     "output_type": "execute_result"
    }
   ],
   "source": [
    "import seaborn as sns"
   ]
  },
  {
   "cell_type": "code",
   "execution_count": 81,
   "id": "9b859a56-bf9a-4a4a-9e0f-38881e9bcef0",
   "metadata": {},
   "outputs": [],
   "source": [
    "groups = {}\n",
    "\n",
    "for k, v in stats.items():\n",
    "    split = k.rsplit(\" \")\n",
    "    gender = split[-1]\n",
    "    group = \" \".join(split[:-1])\n",
    "\n",
    "    if group not in groups:\n",
    "        groups[group] = {'m': 0, 'f': 0, 't': 0}\n",
    "\n",
    "    groups[group][gender] += v['mean']\n",
    "    groups[group]['t'] += v['mean']\n",
    "for group in groups:\n",
    "    groups[group]['t'] = groups[group]['t'] / 2 \n",
    "    for k, v in groups[group].items():\n",
    "        groups[group][k] = v * -1"
   ]
  },
  {
   "cell_type": "code",
   "execution_count": 82,
   "id": "42e4b17b-8dbf-4636-a0e7-d072e79847cd",
   "metadata": {},
   "outputs": [],
   "source": [
    "total = 0\n",
    "for group in groups:\n",
    "    for k, v in groups[group].items():\n",
    "        total += v\n",
    "        \n",
    "for group in groups:\n",
    "    groups[group]['t'] = groups[group]['t'] / 2 \n",
    "    for k, v in groups[group].items():\n",
    "        groups[group][k] = v / total\n",
    "    "
   ]
  },
  {
   "cell_type": "code",
   "execution_count": 83,
   "id": "adb7f844-35d2-4e70-ad49-174f15fafcef",
   "metadata": {},
   "outputs": [
    {
     "data": {
      "text/plain": [
       "{'indian': {'m': 0.05221431561724165,\n",
       "  'f': 0.08206152707404497,\n",
       "  't': 0.033568960672821654},\n",
       " 'black': {'m': 0.034345071001028,\n",
       "  'f': 0.031219419123158745,\n",
       "  't': 0.016391122531046687},\n",
       " 'white': {'m': 0.05063432172213314,\n",
       "  'f': 0.10730154298791161,\n",
       "  't': 0.03948396617751119},\n",
       " 'middle eastern': {'m': 0.08237083396677969,\n",
       "  'f': 0.0600749196563451,\n",
       "  't': 0.035611438405781196},\n",
       " 'latino hispanic': {'m': 0.021852076686803664,\n",
       "  'f': 0.06401152939843262,\n",
       "  't': 0.02146590152130907},\n",
       " 'asian': {'m': 0.01685326723244998,\n",
       "  'f': 0.06372784220033757,\n",
       "  't': 0.02014527735819689}}"
      ]
     },
     "execution_count": 83,
     "metadata": {},
     "output_type": "execute_result"
    }
   ],
   "source": [
    "groups"
   ]
  },
  {
   "cell_type": "code",
   "execution_count": 85,
   "id": "f6728ac0-22e6-4899-9f78-7e9e8d7f5a76",
   "metadata": {},
   "outputs": [],
   "source": [
    "df = pd.DataFrame(groups)"
   ]
  },
  {
   "cell_type": "code",
   "execution_count": 89,
   "id": "b998bcc9-7d9a-4eae-9054-b6aba3183c34",
   "metadata": {},
   "outputs": [],
   "source": [
    "df.index = ['male', 'female', 'all']"
   ]
  },
  {
   "cell_type": "code",
   "execution_count": 93,
   "id": "331d801a-6f05-4d4e-874e-8d77405053c3",
   "metadata": {},
   "outputs": [
    {
     "data": {
      "image/png": "[encoded data removed]",
      "text/plain": [
       "<Figure size 1000x600 with 2 Axes>"
      ]
     },
     "metadata": {},
     "output_type": "display_data"
    }
   ],
   "source": [
    "# Plotting with Seaborn\n",
    "plt.figure(figsize=(10, 6))  # Optional: Adjust figure size\n",
    "ax = sns.heatmap(df, annot=True, cmap='coolwarm', fmt=\".3f\")\n",
    "ax.set_title('Normalized Effectiveness Differences')\n",
    "ax.set_xlabel('Category')\n",
    "ax.set_ylabel('Group')\n",
    "plt.savefig('./norm_differences.jpg')\n",
    "plt.show()"
   ]
  },
  {
   "cell_type": "code",
   "execution_count": 91,
   "id": "ed4dbb3b-abe1-4239-874f-427ede01462e",
   "metadata": {},
   "outputs": [
    {
     "data": {
      "text/plain": [
       "<Figure size 640x480 with 0 Axes>"
      ]
     },
     "metadata": {},
     "output_type": "display_data"
    }
   ],
   "source": []
  },
  {
   "cell_type": "code",
   "execution_count": null,
   "id": "86c00232-c0ea-43fa-8d77-2e1de039445e",
   "metadata": {},
   "outputs": [],
   "source": []
  },
  {
   "cell_type": "code",
   "execution_count": null,
   "id": "ea90f500-9193-46c2-a50f-c8718f0f5242",
   "metadata": {},
   "outputs": [],
   "source": []
  }
 ],
 "metadata": {
  "kernelspec": {
   "display_name": "Python 3 (ipykernel)",
   "language": "python",
   "name": "python3"
  },
  "language_info": {
   "codemirror_mode": {
    "name": "ipython",
    "version": 3
   },
   "file_extension": ".py",
   "mimetype": "text/x-python",
   "name": "python",
   "nbconvert_exporter": "python",
   "pygments_lexer": "ipython3",
   "version": "3.10.12"
  }
 },
 "nbformat": 4,
 "nbformat_minor": 5
}
